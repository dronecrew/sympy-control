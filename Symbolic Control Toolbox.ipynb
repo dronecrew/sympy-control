{
 "cells": [
  {
   "cell_type": "code",
   "execution_count": 1,
   "metadata": {
    "collapsed": false,
    "deletable": true,
    "editable": true
   },
   "outputs": [
    {
     "name": "stdout",
     "output_type": "stream",
     "text": [
      "Populating the interactive namespace from numpy and matplotlib\n"
     ]
    }
   ],
   "source": [
    "%pylab inline\n",
    "import sympy\n",
    "sympy.init_printing()"
   ]
  },
  {
   "cell_type": "code",
   "execution_count": 2,
   "metadata": {
    "collapsed": false,
    "deletable": true,
    "editable": true
   },
   "outputs": [],
   "source": [
    "def array_to_poly(a, s):\n",
    "    n = len(a)\n",
    "    p = 0\n",
    "    for i, c in enumerate(a):\n",
    "        p += c*s**(n - i - 1)\n",
    "    return p\n",
    "        \n",
    "def TransferFunction(num , den):\n",
    "    s = sympy.Symbol('s')\n",
    "    return array_to_poly(num, s)/ array_to_poly(den, s)\n",
    "\n",
    "class StateSpace(object):\n",
    "    def __init__(self, A, B, C, D, dt):\n",
    "        self.A = sympy.Matrix(A)\n",
    "        self.B = sympy.Matrix(B)\n",
    "        self.C = sympy.Matrix(C)\n",
    "        self.D = sympy.Matrix(D)\n",
    "        self.dt = dt\n",
    "\n",
    "    def __str__(self):\n",
    "        return '''StateSpace(\\nA={:s},\\nB={:s},\\nC={:s},\\nD={:s},\\ndt={:s})\n",
    "        '''.format(\n",
    "            repr(self.A),\n",
    "            repr(self.B),\n",
    "            repr(self.C),\n",
    "            repr(self.D),\n",
    "            repr(self.dt))\n",
    "\n",
    "    __repr__ = __str__\n",
    "    \n",
    "    def simplify(self):\n",
    "        self.A.simplify()\n",
    "        self.B.simplify()\n",
    "        self.C.simplify()\n",
    "        self.D.simplify()\n",
    "\n",
    "def ss2tf(ss):\n",
    "    s = sympy.Symbol('s')\n",
    "    n = ss.A.shape[0]\n",
    "    I = sympy.eye(n)\n",
    "    G = (ss.C*(s*I - ss.A).inv()*ss.B + ss.D)\n",
    "    G.simplify()\n",
    "    return G"
   ]
  },
  {
   "cell_type": "code",
   "execution_count": 3,
   "metadata": {
    "collapsed": false,
    "deletable": true,
    "editable": true
   },
   "outputs": [],
   "source": [
    "def controllable_canonical_form(G):\n",
    "    b = sympy.poly(sympy.numer(G)).coeffs()\n",
    "    a = sympy.poly(sympy.denom(G)).coeffs()\n",
    "    assert len(b) <= len(a)\n",
    "    n = len(a)\n",
    "    \n",
    "    A = sympy.zeros(n)\n",
    "    for j in range(n):\n",
    "        for i in range(n):\n",
    "            if j == i + 1:\n",
    "                A[i, j] = 1\n",
    "        A[n - 1, j] = a[j]\n",
    "        \n",
    "    B = sympy.zeros(n, 1)\n",
    "    B[n-1, 0] = 1\n",
    "    \n",
    "    C = sympy.Matrix([b[n-i-1] - a[n-i-1]*b[0] for i in range(0, n)]).T\n",
    "    D = sympy.Matrix([b[0]])\n",
    "    return StateSpace(A, B, C, D, 0)"
   ]
  },
  {
   "cell_type": "code",
   "execution_count": 4,
   "metadata": {
    "collapsed": true,
    "deletable": true,
    "editable": true
   },
   "outputs": [],
   "source": [
    "def similarity_transformation(ss, T):\n",
    "    ssJ = StateSpace(\n",
    "        T.inv()*ss.A*T,\n",
    "        T.inv()*ss.B,\n",
    "        ss.C*T,\n",
    "        ss.D, ss.dt)\n",
    "    ssJ.simplify()\n",
    "    return ssJ"
   ]
  },
  {
   "cell_type": "code",
   "execution_count": 5,
   "metadata": {
    "collapsed": false,
    "deletable": true,
    "editable": true
   },
   "outputs": [],
   "source": [
    "def jordan_canonical_form(ss):\n",
    "    eigen_vects = ss.A.eigenvects()\n",
    "    T = None\n",
    "    for val, mult, basis in ss.A.eigenvects():\n",
    "        if mult != 1:\n",
    "            raise NotImplemented('only eigenvalues of multiplicity 1 are currently supported')\n",
    "        if T is None:\n",
    "            T = basis[0]\n",
    "        else:\n",
    "            T = T.row_join(basis[0])\n",
    "    T.simplify()\n",
    "    return similarity_transformation(ss, T), T"
   ]
  },
  {
   "cell_type": "code",
   "execution_count": 6,
   "metadata": {
    "collapsed": true,
    "deletable": true,
    "editable": true
   },
   "outputs": [],
   "source": [
    "def tf2ss(G):\n",
    "    if not hasattr(G, 'shape'):\n",
    "        G = sympy.Matrix([G])\n",
    "    s = sympy.Symbol('s')\n",
    "    # find unique roots\n",
    "    roots = []\n",
    "    for i in range(G.shape[0]):\n",
    "        for j in range(G.shape[1]):\n",
    "            for t in G[i,j].apart(s).as_ordered_terms():\n",
    "                for root in sympy.roots(sympy.denom(t), s):\n",
    "                    if root not in roots:\n",
    "                        roots += [root]\n",
    "\n",
    "    \n",
    "    n = len(roots)\n",
    "    m = G.shape[0]\n",
    "    p = G.shape[1]\n",
    "    A = sympy.zeros(n)\n",
    "    C = None\n",
    "    B = None\n",
    "    D = G.applyfunc(lambda x: x.apart(s).limit(s, inf))\n",
    "\n",
    "    # for each root\n",
    "    for i_root, root in enumerate(roots):\n",
    "\n",
    "        # create a from root\n",
    "        A[i_root, i_root ] = root\n",
    "\n",
    "        # find residue\n",
    "        G_r = G.applyfunc(lambda x:\n",
    "            sympy.residue(x, s, root).simplify())\n",
    "        u_syms = sympy.symbols('u0:{:d}'.format(m))\n",
    "        v_syms = sympy.symbols('v0:{:d}'.format(p))\n",
    "        u = sympy.Matrix(u_syms)\n",
    "        v = sympy.Matrix(list(v_syms))\n",
    "        vals = { key: 1 for key in list(u) + list(v) }\n",
    "        sol = sympy.solve(list(u*v.T - G_r),\n",
    "                    u_syms + v_syms, dict=True)[0]\n",
    "        vals.update(sol)\n",
    "        vals = { key: sympy.sympify(vals[key]).subs(vals)\n",
    "                    for key in vals.keys() }\n",
    "        if C is None:\n",
    "            C = u.subs(vals)\n",
    "        else:\n",
    "            C = C.row_join(u.subs(vals))\n",
    "\n",
    "        if B is None:\n",
    "            B = v.subs(vals).T\n",
    "        else:\n",
    "            B = B.col_join(v.subs(vals).T)\n",
    "    return StateSpace(A, B, C, D, 0)"
   ]
  },
  {
   "cell_type": "code",
   "execution_count": 7,
   "metadata": {
    "collapsed": false,
    "deletable": true,
    "editable": true
   },
   "outputs": [
    {
     "data": {
      "image/png": "[encoded data removed]",
      "text/latex": [
       "$$\\left[\\begin{matrix}\\frac{2 s + 3}{3 a + s^{2} + s}\\\\\\frac{s + 3}{3 a + s}\\end{matrix}\\right]$$"
      ],
      "text/plain": [
       "⎡  2⋅s + 3   ⎤\n",
       "⎢────────────⎥\n",
       "⎢       2    ⎥\n",
       "⎢3⋅a + s  + s⎥\n",
       "⎢            ⎥\n",
       "⎢   s + 3    ⎥\n",
       "⎢  ───────   ⎥\n",
       "⎣  3⋅a + s   ⎦"
      ]
     },
     "execution_count": 7,
     "metadata": {},
     "output_type": "execute_result"
    }
   ],
   "source": [
    "a = sympy.symbols('a')\n",
    "tf = sympy.Matrix([\n",
    "    TransferFunction([2, 3], [1, 1, 3*a]),\n",
    "    TransferFunction([1, 3], [1, 3*a])])\n",
    "tf"
   ]
  },
  {
   "cell_type": "code",
   "execution_count": 8,
   "metadata": {
    "collapsed": false,
    "deletable": true,
    "editable": true
   },
   "outputs": [
    {
     "data": {
      "text/plain": [
       "StateSpace(\n",
       "A=Matrix([\n",
       "[sqrt(-12*a + 1)/2 - 1/2,                        0,    0],\n",
       "[                      0, -sqrt(-12*a + 1)/2 - 1/2,    0],\n",
       "[                      0,                        0, -3*a]]),\n",
       "B=Matrix([\n",
       "[1],\n",
       "[1],\n",
       "[1]]),\n",
       "C=Matrix([\n",
       "[(sqrt(-12*a + 1) + 2)/sqrt(-12*a + 1), (sqrt(-12*a + 1) - 2)/sqrt(-12*a + 1),        0],\n",
       "[                                    0,                                     0, -3*a + 3]]),\n",
       "D=Matrix([\n",
       "[0],\n",
       "[1]]),\n",
       "dt=0)\n",
       "        "
      ]
     },
     "execution_count": 8,
     "metadata": {},
     "output_type": "execute_result"
    }
   ],
   "source": [
    "ss1 = tf2ss(tf)\n",
    "ss1"
   ]
  },
  {
   "cell_type": "code",
   "execution_count": 9,
   "metadata": {
    "collapsed": false,
    "deletable": true,
    "editable": true
   },
   "outputs": [
    {
     "data": {
      "image/png": "[encoded data removed]",
      "text/latex": [
       "$$\\left[\\begin{matrix}\\frac{2 s + 3}{3 a + s^{2} + s}\\\\\\frac{s + 3}{3 a + s}\\end{matrix}\\right]$$"
      ],
      "text/plain": [
       "⎡  2⋅s + 3   ⎤\n",
       "⎢────────────⎥\n",
       "⎢       2    ⎥\n",
       "⎢3⋅a + s  + s⎥\n",
       "⎢            ⎥\n",
       "⎢   s + 3    ⎥\n",
       "⎢  ───────   ⎥\n",
       "⎣  3⋅a + s   ⎦"
      ]
     },
     "execution_count": 9,
     "metadata": {},
     "output_type": "execute_result"
    }
   ],
   "source": [
    "ss2tf(ss1)"
   ]
  },
  {
   "cell_type": "code",
   "execution_count": 10,
   "metadata": {
    "collapsed": false,
    "deletable": true,
    "editable": true
   },
   "outputs": [
    {
     "data": {
      "image/png": "[encoded data removed]",
      "text/latex": [
       "$$\\left[\\begin{matrix}\\frac{1}{s + 1} & 0\\\\0 & \\frac{1}{2 a + s}\\end{matrix}\\right]$$"
      ],
      "text/plain": [
       "⎡  1           ⎤\n",
       "⎢─────     0   ⎥\n",
       "⎢s + 1         ⎥\n",
       "⎢              ⎥\n",
       "⎢          1   ⎥\n",
       "⎢  0    ───────⎥\n",
       "⎣       2⋅a + s⎦"
      ]
     },
     "execution_count": 10,
     "metadata": {},
     "output_type": "execute_result"
    }
   ],
   "source": [
    "ss = StateSpace([[-1, 0], [0, -2*a]], sympy.eye(2), sympy.eye(2), sympy.zeros(2), 0)\n",
    "G = ss2tf(ss)\n",
    "G"
   ]
  },
  {
   "cell_type": "code",
   "execution_count": 11,
   "metadata": {
    "collapsed": false,
    "deletable": true,
    "editable": true
   },
   "outputs": [
    {
     "data": {
      "text/plain": [
       "StateSpace(\n",
       "A=Matrix([\n",
       "[-1,    0],\n",
       "[ 0, -2*a]]),\n",
       "B=Matrix([\n",
       "[1, 0],\n",
       "[0, 1]]),\n",
       "C=Matrix([\n",
       "[1, 0],\n",
       "[0, 1]]),\n",
       "D=Matrix([\n",
       "[0, 0],\n",
       "[0, 0]]),\n",
       "dt=0)\n",
       "        "
      ]
     },
     "execution_count": 11,
     "metadata": {},
     "output_type": "execute_result"
    }
   ],
   "source": [
    "ss = tf2ss(G)\n",
    "ss"
   ]
  },
  {
   "cell_type": "code",
   "execution_count": 12,
   "metadata": {
    "collapsed": false,
    "deletable": true,
    "editable": true
   },
   "outputs": [
    {
     "data": {
      "image/png": "[encoded data removed]",
      "text/latex": [
       "$$\\left[\\begin{matrix}\\frac{1}{s + 1} & 0\\\\0 & \\frac{1}{2 a + s}\\end{matrix}\\right]$$"
      ],
      "text/plain": [
       "⎡  1           ⎤\n",
       "⎢─────     0   ⎥\n",
       "⎢s + 1         ⎥\n",
       "⎢              ⎥\n",
       "⎢          1   ⎥\n",
       "⎢  0    ───────⎥\n",
       "⎣       2⋅a + s⎦"
      ]
     },
     "execution_count": 12,
     "metadata": {},
     "output_type": "execute_result"
    }
   ],
   "source": [
    "ss2tf(ss)"
   ]
  },
  {
   "cell_type": "code",
   "execution_count": 13,
   "metadata": {
    "collapsed": false,
    "deletable": true,
    "editable": true
   },
   "outputs": [
    {
     "data": {
      "text/plain": [
       "StateSpace(\n",
       "A=Matrix([\n",
       "[-1,    0],\n",
       "[ 0, -2*a]]),\n",
       "B=Matrix([\n",
       "[1, 0],\n",
       "[0, 1]]),\n",
       "C=Matrix([\n",
       "[1, 0],\n",
       "[0, 1]]),\n",
       "D=Matrix([\n",
       "[0, 0],\n",
       "[0, 0]]),\n",
       "dt=0)\n",
       "        "
      ]
     },
     "execution_count": 13,
     "metadata": {},
     "output_type": "execute_result"
    }
   ],
   "source": [
    "ssJ, T = jordan_canonical_form(ss)\n",
    "ssJ"
   ]
  },
  {
   "cell_type": "code",
   "execution_count": 14,
   "metadata": {
    "collapsed": false,
    "deletable": true,
    "editable": true
   },
   "outputs": [],
   "source": [
    "def ctrb(ss, n=ss.A.shape[0]):\n",
    "    O_ctrb = ss.B\n",
    "    for i in range(n-1):\n",
    "        O_ctrb = O_ctrb.row_join(ss.A**n*ss.B)\n",
    "    return O_ctrb"
   ]
  },
  {
   "cell_type": "code",
   "execution_count": 15,
   "metadata": {
    "collapsed": true,
    "deletable": true,
    "editable": true
   },
   "outputs": [],
   "source": [
    "def obsvb(ss, n=ss.A.shape[0]):\n",
    "    O_ctrb = ss.C\n",
    "    for i in range(n-1):\n",
    "        O_ctrb = O_ctrb.row_join(ss.C*ss.A**n)\n",
    "    return O_ctrb"
   ]
  },
  {
   "cell_type": "code",
   "execution_count": 16,
   "metadata": {
    "collapsed": false,
    "deletable": true,
    "editable": true
   },
   "outputs": [
    {
     "data": {
      "image/png": "[encoded data removed]",
      "text/latex": [
       "$$\\left ( \\left[\\begin{matrix}1 & 0\\\\0 & 1\\\\0 & 0\\end{matrix}\\right], \\quad \\left [ 0, \\quad 1\\right ]\\right )$$"
      ],
      "text/plain": [
       "⎛⎡1  0⎤, [0, 1]⎞\n",
       "⎜⎢    ⎥        ⎟\n",
       "⎜⎢0  1⎥        ⎟\n",
       "⎜⎢    ⎥        ⎟\n",
       "⎝⎣0  0⎦        ⎠"
      ]
     },
     "execution_count": 16,
     "metadata": {},
     "output_type": "execute_result"
    }
   ],
   "source": [
    "ctrb(ss1).rref()"
   ]
  },
  {
   "cell_type": "code",
   "execution_count": 17,
   "metadata": {
    "collapsed": false,
    "deletable": true,
    "editable": true
   },
   "outputs": [
    {
     "data": {
      "image/png": "[encoded data removed]",
      "text/latex": [
       "$$\\left ( \\left[\\begin{matrix}1 & 0 & 1 & 0\\\\0 & 1 & 0 & 4 a^{2}\\end{matrix}\\right], \\quad \\left [ 0, \\quad 1\\right ]\\right )$$"
      ],
      "text/plain": [
       "⎛⎡1  0  1   0  ⎤, [0, 1]⎞\n",
       "⎜⎢             ⎥        ⎟\n",
       "⎜⎢            2⎥        ⎟\n",
       "⎝⎣0  1  0  4⋅a ⎦        ⎠"
      ]
     },
     "execution_count": 17,
     "metadata": {},
     "output_type": "execute_result"
    }
   ],
   "source": [
    "obsvb(ssJ).rref()"
   ]
  }
 ],
 "metadata": {
  "anaconda-cloud": {},
  "kernelspec": {
   "display_name": "Python [conda root]",
   "language": "python",
   "name": "conda-root-py"
  },
  "language_info": {
   "codemirror_mode": {
    "name": "ipython",
    "version": 3
   },
   "file_extension": ".py",
   "mimetype": "text/x-python",
   "name": "python",
   "nbconvert_exporter": "python",
   "pygments_lexer": "ipython3",
   "version": "3.5.3"
  }
 },
 "nbformat": 4,
 "nbformat_minor": 2
}
