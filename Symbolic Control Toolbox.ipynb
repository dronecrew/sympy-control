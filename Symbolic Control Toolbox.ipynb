{
 "cells": [
  {
   "cell_type": "code",
   "execution_count": 1,
   "metadata": {
    "collapsed": false,
    "deletable": true,
    "editable": true
   },
   "outputs": [
    {
     "name": "stdout",
     "output_type": "stream",
     "text": [
      "Populating the interactive namespace from numpy and matplotlib\n"
     ]
    }
   ],
   "source": [
    "%pylab inline\n",
    "import sympy\n",
    "import symcontrol as cn\n",
    "sympy.init_printing()"
   ]
  },
  {
   "cell_type": "code",
   "execution_count": 2,
   "metadata": {
    "collapsed": false,
    "deletable": true,
    "editable": true
   },
   "outputs": [
    {
     "data": {
      "image/png": "[encoded data removed]",
      "text/latex": [
       "$$\\left[\\begin{matrix}\\frac{2 s + 3}{3 a + s^{2} + s}\\\\\\frac{s + 3}{3 a + s}\\end{matrix}\\right]$$"
      ],
      "text/plain": [
       "⎡  2⋅s + 3   ⎤\n",
       "⎢────────────⎥\n",
       "⎢       2    ⎥\n",
       "⎢3⋅a + s  + s⎥\n",
       "⎢            ⎥\n",
       "⎢   s + 3    ⎥\n",
       "⎢  ───────   ⎥\n",
       "⎣  3⋅a + s   ⎦"
      ]
     },
     "execution_count": 2,
     "metadata": {},
     "output_type": "execute_result"
    }
   ],
   "source": [
    "a = sympy.symbols('a')\n",
    "tf = sympy.Matrix([\n",
    "    cn.TransferFunction([2, 3], [1, 1, 3*a]),\n",
    "    cn.TransferFunction([1, 3], [1, 3*a])])\n",
    "tf"
   ]
  },
  {
   "cell_type": "code",
   "execution_count": 3,
   "metadata": {
    "collapsed": false,
    "deletable": true,
    "editable": true
   },
   "outputs": [
    {
     "data": {
      "image/png": "[encoded data removed]",
      "text/latex": [
       "$$\\left ( \\left[\\begin{matrix}\\frac{1}{2} \\sqrt{- 12 a + 1} - \\frac{1}{2} & 0 & 0\\\\0 & - \\frac{1}{2} \\sqrt{- 12 a + 1} - \\frac{1}{2} & 0\\\\0 & 0 & - 3 a\\end{matrix}\\right], \\quad \\left[\\begin{matrix}1\\\\1\\\\1\\end{matrix}\\right], \\quad \\left[\\begin{matrix}\\frac{\\sqrt{- 12 a + 1} + 2}{\\sqrt{- 12 a + 1}} & \\frac{\\sqrt{- 12 a + 1} - 2}{\\sqrt{- 12 a + 1}} & 0\\\\0 & 0 & - 3 a + 3\\end{matrix}\\right], \\quad \\left[\\begin{matrix}0\\\\1\\end{matrix}\\right], \\quad 0\\right )$$"
      ],
      "text/plain": [
       "⎛⎡  ___________                               ⎤       ⎡  ___________        __\n",
       "⎜⎢╲╱ -12⋅a + 1    1                           ⎥       ⎢╲╱ -12⋅a + 1  + 2  ╲╱ -\n",
       "⎜⎢───────────── - ─           0            0  ⎥, ⎡1⎤, ⎢─────────────────  ────\n",
       "⎜⎢      2         2                           ⎥  ⎢ ⎥  ⎢    ___________        \n",
       "⎜⎢                                            ⎥  ⎢1⎥  ⎢  ╲╱ -12⋅a + 1       ╲╱\n",
       "⎜⎢                       ___________          ⎥  ⎢ ⎥  ⎢                       \n",
       "⎜⎢                     ╲╱ -12⋅a + 1    1      ⎥  ⎣1⎦  ⎣        0              \n",
       "⎜⎢        0          - ───────────── - ─   0  ⎥                               \n",
       "⎜⎢                           2         2      ⎥                               \n",
       "⎜⎢                                            ⎥                               \n",
       "⎝⎣        0                   0           -3⋅a⎦                               \n",
       "\n",
       "_________              ⎤        ⎞\n",
       "12⋅a + 1  - 2          ⎥        ⎟\n",
       "─────────────     0    ⎥, ⎡0⎤, 0⎟\n",
       "___________            ⎥  ⎢ ⎥   ⎟\n",
       " -12⋅a + 1             ⎥  ⎣1⎦   ⎟\n",
       "                       ⎥        ⎟\n",
       "    0          -3⋅a + 3⎦        ⎟\n",
       "                                ⎟\n",
       "                                ⎟\n",
       "                                ⎟\n",
       "                                ⎠"
      ]
     },
     "execution_count": 3,
     "metadata": {},
     "output_type": "execute_result"
    }
   ],
   "source": [
    "ss1 = cn.tf2ss(tf)\n",
    "ss1"
   ]
  },
  {
   "cell_type": "code",
   "execution_count": 4,
   "metadata": {
    "collapsed": false,
    "deletable": true,
    "editable": true
   },
   "outputs": [
    {
     "data": {
      "image/png": "[encoded data removed]",
      "text/latex": [
       "$$\\left[\\begin{matrix}\\frac{2 s + 3}{3 a + s^{2} + s}\\\\\\frac{s + 3}{3 a + s}\\end{matrix}\\right]$$"
      ],
      "text/plain": [
       "⎡  2⋅s + 3   ⎤\n",
       "⎢────────────⎥\n",
       "⎢       2    ⎥\n",
       "⎢3⋅a + s  + s⎥\n",
       "⎢            ⎥\n",
       "⎢   s + 3    ⎥\n",
       "⎢  ───────   ⎥\n",
       "⎣  3⋅a + s   ⎦"
      ]
     },
     "execution_count": 4,
     "metadata": {},
     "output_type": "execute_result"
    }
   ],
   "source": [
    "cn.ss2tf(ss1)"
   ]
  },
  {
   "cell_type": "code",
   "execution_count": 5,
   "metadata": {
    "collapsed": false,
    "deletable": true,
    "editable": true
   },
   "outputs": [
    {
     "data": {
      "image/png": "[encoded data removed]",
      "text/latex": [
       "$$\\left ( \\left[\\begin{matrix}- 3 a & 0 & 0\\\\0 & - \\frac{1}{2} \\sqrt{- 12 a + 1} - \\frac{1}{2} & 0\\\\0 & 0 & \\frac{1}{2} \\sqrt{- 12 a + 1} - \\frac{1}{2}\\end{matrix}\\right], \\quad \\left[\\begin{matrix}1\\\\1\\\\1\\end{matrix}\\right], \\quad \\left[\\begin{matrix}0 & \\frac{\\sqrt{- 12 a + 1} - 2}{\\sqrt{- 12 a + 1}} & \\frac{\\sqrt{- 12 a + 1} + 2}{\\sqrt{- 12 a + 1}}\\\\- 3 a + 3 & 0 & 0\\end{matrix}\\right], \\quad \\left[\\begin{matrix}0\\\\1\\end{matrix}\\right], \\quad 0\\right )$$"
      ],
      "text/plain": [
       "⎛                                                     ⎡            ___________\n",
       "⎜                                                     ⎢          ╲╱ -12⋅a + 1 \n",
       "⎜⎡-3⋅a           0                   0        ⎤, ⎡1⎤, ⎢   0      ─────────────\n",
       "⎜⎢                                            ⎥  ⎢ ⎥  ⎢              _________\n",
       "⎜⎢          ___________                       ⎥  ⎢1⎥  ⎢            ╲╱ -12⋅a + \n",
       "⎜⎢        ╲╱ -12⋅a + 1    1                   ⎥  ⎢ ⎥  ⎢                       \n",
       "⎜⎢ 0    - ───────────── - ─          0        ⎥  ⎣1⎦  ⎣-3⋅a + 3          0    \n",
       "⎜⎢              2         2                   ⎥                               \n",
       "⎜⎢                                            ⎥                               \n",
       "⎜⎢                             ___________    ⎥                               \n",
       "⎜⎢                           ╲╱ -12⋅a + 1    1⎥                               \n",
       "⎜⎢ 0             0           ───────────── - ─⎥                               \n",
       "⎝⎣                                 2         2⎦                               \n",
       "\n",
       "        ___________    ⎤        ⎞\n",
       " - 2  ╲╱ -12⋅a + 1  + 2⎥        ⎟\n",
       "────  ─────────────────⎥, ⎡0⎤, 0⎟\n",
       "__        ___________  ⎥  ⎢ ⎥   ⎟\n",
       "1       ╲╱ -12⋅a + 1   ⎥  ⎣1⎦   ⎟\n",
       "                       ⎥        ⎟\n",
       "              0        ⎦        ⎟\n",
       "                                ⎟\n",
       "                                ⎟\n",
       "                                ⎟\n",
       "                                ⎟\n",
       "                                ⎟\n",
       "                                ⎠"
      ]
     },
     "execution_count": 5,
     "metadata": {},
     "output_type": "execute_result"
    }
   ],
   "source": [
    "ssJ, T = cn.jordan_canonical_form(ss1)\n",
    "ssJ"
   ]
  },
  {
   "cell_type": "code",
   "execution_count": 6,
   "metadata": {
    "collapsed": false,
    "deletable": true,
    "editable": true
   },
   "outputs": [],
   "source": [
    "def ctrb(ss, n=None):\n",
    "    if n is None:\n",
    "        n = ss.A.shape[0]\n",
    "    O_ctrb = ss.B\n",
    "    for i in range(n-1):\n",
    "        O_ctrb = O_ctrb.row_join(ss.A**n*ss.B)\n",
    "    return O_ctrb"
   ]
  },
  {
   "cell_type": "code",
   "execution_count": 7,
   "metadata": {
    "collapsed": false,
    "deletable": true,
    "editable": true
   },
   "outputs": [],
   "source": [
    "def obsvb(ss, n=None):\n",
    "    if n is None:\n",
    "        n = ss.A.shape[0]\n",
    "    O_ctrb = ss.C\n",
    "    for i in range(n-1):\n",
    "        O_ctrb = O_ctrb.row_join(ss.C*ss.A**n)\n",
    "    return O_ctrb"
   ]
  },
  {
   "cell_type": "code",
   "execution_count": 8,
   "metadata": {
    "collapsed": false
   },
   "outputs": [
    {
     "data": {
      "image/png": "[encoded data removed]",
      "text/latex": [
       "$$\\left ( \\left[\\begin{matrix}\\frac{1}{2} \\sqrt{- 12 a + 1} - \\frac{1}{2} & 0 & 0\\\\0 & - \\frac{1}{2} \\sqrt{- 12 a + 1} - \\frac{1}{2} & 0\\\\0 & 0 & - 3 a\\end{matrix}\\right], \\quad \\left[\\begin{matrix}1\\\\1\\\\1\\end{matrix}\\right], \\quad \\left[\\begin{matrix}\\frac{\\sqrt{- 12 a + 1} + 2}{\\sqrt{- 12 a + 1}} & \\frac{\\sqrt{- 12 a + 1} - 2}{\\sqrt{- 12 a + 1}} & 0\\\\0 & 0 & - 3 a + 3\\end{matrix}\\right], \\quad \\left[\\begin{matrix}0\\\\1\\end{matrix}\\right], \\quad 0\\right )$$"
      ],
      "text/plain": [
       "⎛⎡  ___________                               ⎤       ⎡  ___________        __\n",
       "⎜⎢╲╱ -12⋅a + 1    1                           ⎥       ⎢╲╱ -12⋅a + 1  + 2  ╲╱ -\n",
       "⎜⎢───────────── - ─           0            0  ⎥, ⎡1⎤, ⎢─────────────────  ────\n",
       "⎜⎢      2         2                           ⎥  ⎢ ⎥  ⎢    ___________        \n",
       "⎜⎢                                            ⎥  ⎢1⎥  ⎢  ╲╱ -12⋅a + 1       ╲╱\n",
       "⎜⎢                       ___________          ⎥  ⎢ ⎥  ⎢                       \n",
       "⎜⎢                     ╲╱ -12⋅a + 1    1      ⎥  ⎣1⎦  ⎣        0              \n",
       "⎜⎢        0          - ───────────── - ─   0  ⎥                               \n",
       "⎜⎢                           2         2      ⎥                               \n",
       "⎜⎢                                            ⎥                               \n",
       "⎝⎣        0                   0           -3⋅a⎦                               \n",
       "\n",
       "_________              ⎤        ⎞\n",
       "12⋅a + 1  - 2          ⎥        ⎟\n",
       "─────────────     0    ⎥, ⎡0⎤, 0⎟\n",
       "___________            ⎥  ⎢ ⎥   ⎟\n",
       " -12⋅a + 1             ⎥  ⎣1⎦   ⎟\n",
       "                       ⎥        ⎟\n",
       "    0          -3⋅a + 3⎦        ⎟\n",
       "                                ⎟\n",
       "                                ⎟\n",
       "                                ⎟\n",
       "                                ⎠"
      ]
     },
     "execution_count": 8,
     "metadata": {},
     "output_type": "execute_result"
    }
   ],
   "source": [
    "ss1.simplify()\n",
    "ss1"
   ]
  }
 ],
 "metadata": {
  "anaconda-cloud": {},
  "kernelspec": {
   "display_name": "Python [conda root]",
   "language": "python",
   "name": "conda-root-py"
  },
  "language_info": {
   "codemirror_mode": {
    "name": "ipython",
    "version": 3
   },
   "file_extension": ".py",
   "mimetype": "text/x-python",
   "name": "python",
   "nbconvert_exporter": "python",
   "pygments_lexer": "ipython3",
   "version": "3.5.3"
  }
 },
 "nbformat": 4,
 "nbformat_minor": 2
}
